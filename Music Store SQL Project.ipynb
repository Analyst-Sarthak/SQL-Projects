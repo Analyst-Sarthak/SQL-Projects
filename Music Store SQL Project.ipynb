{
 "cells": [
  {
   "cell_type": "markdown",
   "id": "326e44fa",
   "metadata": {},
   "source": [
    "# Music Store Data Analysis Project Using SQL"
   ]
  },
  {
   "cell_type": "raw",
   "id": "c87ba829",
   "metadata": {},
   "source": [
    "#1 Who is senior most employee based on job Title?\n",
    "\n",
    "select first_name, last_name from employee\n",
    "order by levels desc\n",
    "Limit 1"
   ]
  },
  {
   "cell_type": "raw",
   "id": "2fe4dfbb",
   "metadata": {},
   "source": [
    "#2 Which Country have the most Invoices?\n",
    "\n",
    "select billing_country, count(*) from invoice\n",
    "group by billing_country\n",
    "order by count desc\n",
    "limit 1"
   ]
  },
  {
   "cell_type": "raw",
   "id": "fbf39ea8",
   "metadata": {},
   "source": [
    "#3 What are top 3 values of total Invoice?\n",
    "\n",
    "select invoice_id, total from Invoice\n",
    "order by total desc\n",
    "limit 3"
   ]
  },
  {
   "cell_type": "raw",
   "id": "c7af69ca",
   "metadata": {},
   "source": [
    "#4 Which city has the best customers? We would like to throw a promotional Music Festival in the city we made the most money. \n",
    "Write a query that returns one city that has the highest sum of invoice totals. \n",
    "Return both the city name & sum of all invoice totals.\n",
    "\n",
    "select billing_city, sum(total) as total_sum from Invoice\n",
    "group by billing_city\n",
    "order by total_sum desc\n",
    "limit 1"
   ]
  },
  {
   "cell_type": "raw",
   "id": "a67abe31",
   "metadata": {},
   "source": [
    "#5 Who is the best customer? The customer who has spent the most money will be declared the best customer. \n",
    "Write a query that returns the person who has spent the most money.\n",
    "\n",
    "select c.first_name, c.last_name, c.customer_id, sum(i.total) as total from customer as c\n",
    "join invoice as i\n",
    "ON c.customer_id = i.customer_id\n",
    "group by c.customer_id\n",
    "order by total desc\n",
    "limit 1"
   ]
  },
  {
   "cell_type": "raw",
   "id": "3af8bd4e",
   "metadata": {},
   "source": [
    "#6 Write a query to return the email, first name, last name, & Genre of all Rock Music listeners. \n",
    "Return your list ordered alphabetically by email starting with A.\n",
    "\n",
    "select distinct c.email, c.first_name, c.last_name from customer as c\n",
    "JOIN invoice as i on c.customer_id = i.customer_id\n",
    "Join invoice_line as il ON il.invoice_id = i.invoice_id\n",
    "where track_id IN(\n",
    "\tselect track_id from track\n",
    "    join genre on genre.genre_id = track.genre_id\n",
    "    where genre.name Like 'Rock'\n",
    ")\n",
    "order by email"
   ]
  },
  {
   "cell_type": "raw",
   "id": "9a1e078e",
   "metadata": {},
   "source": [
    "#7 Let's invite the artists who have written the most rock music in our dataset. \n",
    "Write a query that returns the Artist name and total track count of the top 10 rock bands.\n",
    "\n",
    "select artist.name, count(artist.artist_id) as Total_song from artist\n",
    "join album on artist.artist_id = album.artist_id\n",
    "join track on track.album_id = album.album_id\n",
    "join genre on genre.genre_id = track.genre_id\n",
    "where genre.name like 'Rock'\n",
    "group by artist.artist_id\n",
    "order by total_song desc\n",
    "Limit 10"
   ]
  },
  {
   "cell_type": "raw",
   "id": "9004f7f0",
   "metadata": {},
   "source": [
    "#8 Return all the track names that have a song length longer than the average song length. \n",
    "Return the Name and Milliseconds for each track. Order by the song length with the longest songs listed first.\n",
    "\n",
    "select name, milliseconds from track\n",
    "where milliseconds> (\n",
    "    select avg(milliseconds) as avg_length from track\n",
    ")\n",
    "order by milliseconds desc"
   ]
  },
  {
   "cell_type": "raw",
   "id": "de74eddf",
   "metadata": {},
   "source": [
    "#9 Find how much amount spent by each customer on artists? Write a query to return customer name, artist name and total spent.\n",
    "\n",
    "select customer.first_name, artist.name as artist_name, sum(invoice_line.unit_price * invoice_line.quantity) as total_spent from customer\n",
    "join invoice on invoice.customer_id = customer.customer_id\n",
    "join invoice_line on invoice_line.invoice_id = invoice.invoice_id\n",
    "join track on track.track_id = invoice_line.track_id\n",
    "join album on track.album_id = album.album_id\n",
    "join artist on album.artist_id = artist.artist_id\n",
    "group by artist.name, customer.first_name\n",
    "order by total_spent desc\n",
    "Limit 5\n",
    "\n",
    "-- if we want to find top customers of best earning artist. we can use cte(common table expression).\n",
    "\n",
    "\n",
    "with best_earning as (\n",
    "   select artist.artist_id artist_id, artist.name artist_name, sum(invoice_line.unit_price * invoice_line.quantity) as top_earner\n",
    "   from artist \n",
    "\tjoin album on album.artist_id = artist.artist_id\n",
    "\tjoin track on track.album_id = album.album_id\n",
    "\tjoin invoice_line on invoice_line.track_id = track.track_id\n",
    "\tGroup by 1\n",
    "\torder by 3 desc\n",
    "\tLimit 1\n",
    ")\n",
    "\n",
    "select customer.first_name, best.artist_name, sum(invoice_line.unit_price * invoice_line.quantity) as top_spent\n",
    "   from customer\n",
    "   join invoice on invoice.customer_id = customer.customer_id\n",
    "   join invoice_line on invoice_line.invoice_id = invoice.invoice_id\n",
    "   join track on track.track_id = invoice_line.track_id\n",
    "   join album on album.album_id = track.album_id\n",
    "   join best_earning best on best.artist_id = album.artist_id\n",
    "   Group by 1,2\n",
    "   order by 3 desc\n",
    "   limit 5"
   ]
  },
  {
   "cell_type": "raw",
   "id": "a015a4f0",
   "metadata": {},
   "source": [
    "#10 We want to find out the most popular music Genre for each country. We determine the most popular genre as the genre \n",
    "with the highest amount of purchases. Write a query that returns each country along with the top Genre. For countries where \n",
    "the maximum number of purchases is shared return all Genres.\n",
    "\n",
    "with most_popular as(\n",
    "select invoice.billing_country as country, genre.name as genre_name, genre.genre_id as genre_id, count(invoice_line.quantity) as total_sale, \n",
    "\tROW_NUMBER() OVER(PARTITION BY invoice.billing_country ORDER BY COUNT(invoice_line.quantity) DESC) AS RowNo \n",
    "\tfrom invoice\n",
    "\tjoin invoice_line on invoice_line.invoice_id = invoice.invoice_id\n",
    "\tjoin track on track.track_id = invoice_line.track_id\n",
    "\tjoin genre on genre.genre_id = track.genre_id\n",
    "\tgroup by 1,2,3\n",
    "\torder by 1 asc, 4 desc\n",
    ")\n",
    "\n",
    "select* from most_popular\n",
    "where RowNo = 1\n",
    "    \n",
    " Note:- For countries where the maximum number of purchases is shared, we can use rank() function instead of Row_Number(). so that all genres can be obtained."
   ]
  },
  {
   "cell_type": "raw",
   "id": "83d5984f",
   "metadata": {},
   "source": [
    "#11 Write a query that determines the customer that has spent the most on music for each country. \n",
    "Write a query that returns the country along with the top customer and how much they spent. \n",
    "For countries where the top amount spent is shared, provide all customers who spent this amount\n",
    "\n",
    "with top_customer as (\n",
    "\tselect customer.country as country, customer.first_name as Name, sum(invoice.total) as total_spent, \n",
    "\tRANK() OVER(PARTITION BY customer.country ORDER BY sum(invoice.total) DESC) AS RankNo \n",
    "\tfrom customer\n",
    "\tjoin invoice on invoice.customer_id = customer.customer_id\n",
    "\tgroup by 1,2\n",
    "\torder by 1 asc, 3 desc\n",
    "\n",
    ")\n",
    "select * from top_customer\n",
    "where RankNo=1"
   ]
  },
  {
   "cell_type": "code",
   "execution_count": null,
   "id": "fa9f05e9",
   "metadata": {},
   "outputs": [],
   "source": []
  }
 ],
 "metadata": {
  "kernelspec": {
   "display_name": "Python 3 (ipykernel)",
   "language": "python",
   "name": "python3"
  },
  "language_info": {
   "codemirror_mode": {
    "name": "ipython",
    "version": 3
   },
   "file_extension": ".py",
   "mimetype": "text/x-python",
   "name": "python",
   "nbconvert_exporter": "python",
   "pygments_lexer": "ipython3",
   "version": "3.10.4"
  }
 },
 "nbformat": 4,
 "nbformat_minor": 5
}
